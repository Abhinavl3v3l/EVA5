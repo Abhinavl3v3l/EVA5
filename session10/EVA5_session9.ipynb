{
 "cells": [
  {
   "cell_type": "code",
   "execution_count": 1,
   "metadata": {},
   "outputs": [],
   "source": [
    "from IPython.core.interactiveshell import InteractiveShell\n",
    "InteractiveShell.ast_node_interactivity = 'all'"
   ]
  },
  {
   "cell_type": "code",
   "execution_count": 2,
   "metadata": {
    "colab": {
     "base_uri": "https://localhost:8080/",
     "height": 51
    },
    "colab_type": "code",
    "id": "_xG3EaAAHGIQ",
    "outputId": "94bed0d2-8c76-4a02-d20f-cfbd5b84e32e"
   },
   "outputs": [
    {
     "name": "stdout",
     "output_type": "stream",
     "text": [
      "total 167064\n",
      "drwxr-xr-x 2 abhinav abhinav      4096 Jun  5  2009 cifar-10-batches-py\n",
      "drwxr-xr-x 3 abhinav abhinav      4096 Sep 25 21:56 data_augmentation\n",
      "-rw-r--r-- 1 abhinav abhinav        24 Sep 25 21:56 readme.md\n",
      "-rw-r--r-- 1 abhinav abhinav     11803 Sep 25 23:28 model_architecture\n",
      "-rw-r--r-- 1 abhinav abhinav    153822 Sep 26 13:03 Test_missclassified_images.jpg\n",
      "-rw-r--r-- 1 abhinav abhinav     41673 Sep 26 14:29 model_history.png\n",
      "-rw-r--r-- 1 abhinav abhinav    174027 Sep 26 14:30 QuizDNN.ipynb\n",
      "drwxr-xr-x 4 abhinav abhinav      4096 Sep 29 05:24 model_file\n",
      "-rw-r--r-- 1 abhinav abhinav 170498071 Sep 29 05:46 cifar-10-python.tar.gz\n",
      "drwxr-xr-x 3 abhinav abhinav      4096 Sep 29 05:48 lr_finder\n",
      "drwxr-xr-x 4 abhinav abhinav      4096 Sep 29 05:58 mlruns\n",
      "-rw-r--r-- 1 abhinav abhinav    134974 Sep 30 04:45 EVA5_session10.ipynb\n",
      "drwxr-xr-x 4 abhinav abhinav      4096 Sep 30 04:46 model_utility\n",
      "-rw-r--r-- 1 abhinav abhinav     17401 Sep 30 04:46 EVA5_session9.ipynb\n",
      "127.0.1.1 \n"
     ]
    }
   ],
   "source": [
    "!ls -ltr\n",
    "!hostname -i"
   ]
  },
  {
   "cell_type": "markdown",
   "metadata": {
    "colab_type": "text",
    "id": "_kXPnIqUqhwH"
   },
   "source": [
    "# Loading UD modules"
   ]
  },
  {
   "cell_type": "code",
   "execution_count": null,
   "metadata": {},
   "outputs": [],
   "source": []
  },
  {
   "cell_type": "raw",
   "metadata": {},
   "source": [
    "!ls -R"
   ]
  },
  {
   "cell_type": "raw",
   "metadata": {},
   "source": [
    "!pip install albumentations -y"
   ]
  },
  {
   "cell_type": "code",
   "execution_count": 3,
   "metadata": {
    "scrolled": true
   },
   "outputs": [],
   "source": [
    "from __future__ import print_function\n",
    "import torch\n",
    "import torch.optim as optim\n",
    "from torchvision import datasets, transforms\n",
    "from torch.optim.lr_scheduler import StepLR\n",
    "from torchsummary import summary\n",
    "from tqdm import tqdm\n",
    "import torchvision\n",
    "import torch.nn as nn\n",
    "import torch.nn.functional as F\n",
    "import os \n",
    "import numpy as np\n",
    "#mlflow\n",
    "import mlflow\n",
    "import mlflow.pytorch\n",
    "\n",
    "# CUSTOM LIBRARY\n",
    "import model_utility.data_utils as dutils\n",
    "import model_utility.model_utils as mutils\n",
    "import model_utility.plot_utils as putils \n",
    "import model_utility.regularization as regularization\n",
    "import model_file.model_cifar as model_cifar\n",
    "import model_utility.alb_utils as alb\n",
    "import sys\n",
    "sys.path.append('/home/abhinav/Documents/EVA5/session9/model_utility/gradcam')\n",
    "import model_utility.grad_cam_viz as viz\n",
    "import model_file.models as mod\n",
    "\n",
    "# PLOTS\n",
    "import matplotlib.pyplot as plt\n",
    "import seaborn as sns"
   ]
  },
  {
   "cell_type": "code",
   "execution_count": 4,
   "metadata": {},
   "outputs": [],
   "source": [
    "import data_augmentation.albumentations as A\n",
    "from data_augmentation.albumentations.pytorch import ToTensor"
   ]
  },
  {
   "cell_type": "code",
   "execution_count": 5,
   "metadata": {},
   "outputs": [
    {
     "data": {
      "text/plain": [
       "'0.4.6'"
      ]
     },
     "execution_count": 5,
     "metadata": {},
     "output_type": "execute_result"
    },
    {
     "data": {
      "text/plain": [
       "'/home/abhinav/Documents/GitHub/Eva5/session10/data_augmentation/albumentations/__init__.py'"
      ]
     },
     "execution_count": 5,
     "metadata": {},
     "output_type": "execute_result"
    },
    {
     "data": {
      "text/plain": [
       "'data_augmentation.albumentations.core.composition'"
      ]
     },
     "execution_count": 5,
     "metadata": {},
     "output_type": "execute_result"
    },
    {
     "data": {
      "text/plain": [
       "'data_augmentation.albumentations.augmentations.transforms'"
      ]
     },
     "execution_count": 5,
     "metadata": {},
     "output_type": "execute_result"
    },
    {
     "data": {
      "text/plain": [
       "'data_augmentation.albumentations.augmentations.transforms'"
      ]
     },
     "execution_count": 5,
     "metadata": {},
     "output_type": "execute_result"
    },
    {
     "data": {
      "text/plain": [
       "'data_augmentation.albumentations.augmentations.transforms'"
      ]
     },
     "execution_count": 5,
     "metadata": {},
     "output_type": "execute_result"
    },
    {
     "data": {
      "text/plain": [
       "'data_augmentation.albumentations.augmentations.transforms'"
      ]
     },
     "execution_count": 5,
     "metadata": {},
     "output_type": "execute_result"
    },
    {
     "data": {
      "text/plain": [
       "'data_augmentation.albumentations.augmentations.transforms'"
      ]
     },
     "execution_count": 5,
     "metadata": {},
     "output_type": "execute_result"
    },
    {
     "data": {
      "text/plain": [
       "'data_augmentation.albumentations.augmentations.transforms'"
      ]
     },
     "execution_count": 5,
     "metadata": {},
     "output_type": "execute_result"
    },
    {
     "data": {
      "text/plain": [
       "'data_augmentation.albumentations.pytorch.transforms'"
      ]
     },
     "execution_count": 5,
     "metadata": {},
     "output_type": "execute_result"
    },
    {
     "data": {
      "text/plain": [
       "'data_augmentation.albumentations.pytorch.transforms'"
      ]
     },
     "execution_count": 5,
     "metadata": {},
     "output_type": "execute_result"
    }
   ],
   "source": [
    "A.__version__\n",
    "A.__file__\n",
    "A.Compose.__module__\n",
    "A.Cutout.__module__\n",
    "A.RandomCrop.__module__\n",
    "A.HorizontalFlip.__module__\n",
    "A.ElasticTransform.__module__\n",
    "A.CoarseDropout.__module__\n",
    "A.Normalize.__module__\n",
    "A.pytorch.ToTensor.__module__\n",
    "A.pytorch.ToTensor.__module__"
   ]
  },
  {
   "cell_type": "markdown",
   "metadata": {
    "colab_type": "text",
    "id": "Wik2-FtyqnDH"
   },
   "source": [
    "# Check GPU avaiability"
   ]
  },
  {
   "cell_type": "code",
   "execution_count": 6,
   "metadata": {
    "colab": {
     "base_uri": "https://localhost:8080/",
     "height": 51
    },
    "colab_type": "code",
    "id": "FJ0f14SWHHPg",
    "outputId": "7b876441-5838-4574-ee84-9804c47e765e"
   },
   "outputs": [
    {
     "name": "stdout",
     "output_type": "stream",
     "text": [
      "CUDA Available? True\n",
      "Device is cuda:0\n"
     ]
    }
   ],
   "source": [
    "device = dutils.get_device()"
   ]
  },
  {
   "cell_type": "code",
   "execution_count": 7,
   "metadata": {},
   "outputs": [
    {
     "name": "stdout",
     "output_type": "stream",
     "text": [
      "True\n"
     ]
    }
   ],
   "source": [
    "cuda = torch.cuda.is_available()\n",
    "print(cuda)"
   ]
  },
  {
   "cell_type": "markdown",
   "metadata": {
    "colab_type": "text",
    "id": "TJ-pAGuzqxz9"
   },
   "source": [
    "# CIFAR10 Basics"
   ]
  },
  {
   "cell_type": "code",
   "execution_count": 8,
   "metadata": {
    "colab": {},
    "colab_type": "code",
    "id": "V548eThGVWxb"
   },
   "outputs": [],
   "source": [
    "classes = ('plane', 'car', 'bird', 'cat', 'deer', 'dog', 'frog', 'horse', 'ship', 'truck')\n",
    "\n",
    "SEED = 1\n",
    "batch_size=128\n",
    "\n",
    "# CUDA?\n",
    "if device.type == 'cuda':\n",
    "    torch.cuda.manual_seed(SEED)\n",
    "else:\n",
    "    torch.manual_seed(SEED)"
   ]
  },
  {
   "cell_type": "markdown",
   "metadata": {
    "colab_type": "text",
    "id": "PZFlFr2Qq7wz"
   },
   "source": [
    "# Load CIFAR10 dataset"
   ]
  },
  {
   "cell_type": "code",
   "execution_count": 9,
   "metadata": {},
   "outputs": [
    {
     "data": {
      "text/plain": [
       "'/home/abhinav/Documents/GitHub/Eva5/session10'"
      ]
     },
     "execution_count": 9,
     "metadata": {},
     "output_type": "execute_result"
    }
   ],
   "source": [
    "os.getcwd()"
   ]
  },
  {
   "cell_type": "code",
   "execution_count": 10,
   "metadata": {},
   "outputs": [
    {
     "data": {
      "text/plain": [
       "'/home/abhinav/Documents/GitHub/Eva5/session10'"
      ]
     },
     "execution_count": 10,
     "metadata": {},
     "output_type": "execute_result"
    }
   ],
   "source": [
    "path = os.getcwd()\n",
    "path"
   ]
  },
  {
   "cell_type": "raw",
   "metadata": {
    "colab": {
     "base_uri": "https://localhost:8080/",
     "height": 68
    },
    "colab_type": "code",
    "id": "sOJiNOrWHHgx",
    "outputId": "3e826095-e86a-4b15-e75e-43416f110838"
   },
   "source": [
    "# load CIFAR10 dataset\n",
    "train_loader, test_loader = dutils.get_dataloader(batch_size=batch_size, num_workers=4, cuda = True,path = path )"
   ]
  },
  {
   "cell_type": "code",
   "execution_count": 11,
   "metadata": {},
   "outputs": [],
   "source": [
    "batch_size = 128"
   ]
  },
  {
   "cell_type": "code",
   "execution_count": 12,
   "metadata": {},
   "outputs": [
    {
     "name": "stdout",
     "output_type": "stream",
     "text": [
      "Running over Cuda !!  True\n",
      "Files already downloaded and verified\n",
      "Files already downloaded and verified\n",
      "mean 0.49186864\n",
      "standard dev 0.24697131\n",
      "mean 0.48265335\n",
      "standard dev 0.24338901\n",
      "mean 0.44717798\n",
      "standard dev 0.26159254\n"
     ]
    },
    {
     "name": "stderr",
     "output_type": "stream",
     "text": [
      "/home/abhinav/anaconda3/lib/python3.8/site-packages/albumentations/augmentations/transforms.py:1469: DeprecationWarning: This class has been deprecated. Please use CoarseDropout\n",
      "  warnings.warn(\"This class has been deprecated. Please use CoarseDropout\", DeprecationWarning)\n",
      "/home/abhinav/anaconda3/lib/python3.8/site-packages/albumentations/pytorch/transforms.py:57: DeprecationWarning: ToTensor is deprecated and will be replaced by ToTensorV2 in albumentations 0.5.0\n",
      "  warnings.warn(\n"
     ]
    },
    {
     "name": "stdout",
     "output_type": "stream",
     "text": [
      "Files already downloaded and verified\n",
      "Files already downloaded and verified\n"
     ]
    }
   ],
   "source": [
    "# load CIFAR10 dataset\n",
    "trainset, testset, train_loader, test_loader = alb.get_dataloader(batch_size=batch_size, num_workers=4, cuda = True,path = path)"
   ]
  },
  {
   "cell_type": "markdown",
   "metadata": {
    "colab_type": "text",
    "id": "Uzk3Su4wrBV0"
   },
   "source": [
    "# Data mage Visualization"
   ]
  },
  {
   "cell_type": "code",
   "execution_count": 13,
   "metadata": {
    "colab": {
     "base_uri": "https://localhost:8080/",
     "height": 529
    },
    "colab_type": "code",
    "id": "klMwUHJBHHv3",
    "outputId": "595083de-6c3c-471d-9bac-f07c0fe2852c",
    "scrolled": true
   },
   "outputs": [
    {
     "ename": "RuntimeError",
     "evalue": "Caught RuntimeError in pin memory thread for device 0.\nOriginal Traceback (most recent call last):\n  File \"/home/abhinav/anaconda3/lib/python3.8/site-packages/torch/utils/data/_utils/pin_memory.py\", line 31, in _pin_memory_loop\n    data = pin_memory(data)\n  File \"/home/abhinav/anaconda3/lib/python3.8/site-packages/torch/utils/data/_utils/pin_memory.py\", line 55, in pin_memory\n    return [pin_memory(sample) for sample in data]\n  File \"/home/abhinav/anaconda3/lib/python3.8/site-packages/torch/utils/data/_utils/pin_memory.py\", line 55, in <listcomp>\n    return [pin_memory(sample) for sample in data]\n  File \"/home/abhinav/anaconda3/lib/python3.8/site-packages/torch/utils/data/_utils/pin_memory.py\", line 47, in pin_memory\n    return data.pin_memory()\nRuntimeError: cuda runtime error (2) : out of memory at /opt/conda/conda-bld/pytorch_1595629395347/work/aten/src/THC/THCCachingHostAllocator.cpp:278\n",
     "output_type": "error",
     "traceback": [
      "\u001b[0;31m---------------------------------------------------------------------------\u001b[0m",
      "\u001b[0;31mRuntimeError\u001b[0m                              Traceback (most recent call last)",
      "\u001b[0;32m<ipython-input-13-7460d33bd9f1>\u001b[0m in \u001b[0;36m<module>\u001b[0;34m\u001b[0m\n\u001b[1;32m      1\u001b[0m \u001b[0;31m#Plot 20 random images\u001b[0m\u001b[0;34m\u001b[0m\u001b[0;34m\u001b[0m\u001b[0;34m\u001b[0m\u001b[0m\n\u001b[0;32m----> 2\u001b[0;31m \u001b[0mputils\u001b[0m\u001b[0;34m.\u001b[0m\u001b[0mplot_dataset_images\u001b[0m\u001b[0;34m(\u001b[0m\u001b[0mdevice\u001b[0m\u001b[0;34m,\u001b[0m \u001b[0mclasses\u001b[0m\u001b[0;34m,\u001b[0m \u001b[0mtrain_loader\u001b[0m\u001b[0;34m)\u001b[0m\u001b[0;34m\u001b[0m\u001b[0;34m\u001b[0m\u001b[0m\n\u001b[0m",
      "\u001b[0;32m~/Documents/GitHub/Eva5/session10/model_utility/plot_utils.py\u001b[0m in \u001b[0;36mplot_dataset_images\u001b[0;34m(device, classes, data_loader, num_of_images)\u001b[0m\n\u001b[1;32m    109\u001b[0m     \u001b[0mcnt\u001b[0m \u001b[0;34m=\u001b[0m \u001b[0;36m0\u001b[0m\u001b[0;34m\u001b[0m\u001b[0;34m\u001b[0m\u001b[0m\n\u001b[1;32m    110\u001b[0m     \u001b[0mfig\u001b[0m \u001b[0;34m=\u001b[0m \u001b[0mplt\u001b[0m\u001b[0;34m.\u001b[0m\u001b[0mfigure\u001b[0m\u001b[0;34m(\u001b[0m\u001b[0mfigsize\u001b[0m\u001b[0;34m=\u001b[0m\u001b[0;34m(\u001b[0m\u001b[0;36m10\u001b[0m\u001b[0;34m,\u001b[0m\u001b[0;36m9\u001b[0m\u001b[0;34m)\u001b[0m\u001b[0;34m)\u001b[0m\u001b[0;34m\u001b[0m\u001b[0;34m\u001b[0m\u001b[0m\n\u001b[0;32m--> 111\u001b[0;31m     \u001b[0;32mfor\u001b[0m \u001b[0mdata\u001b[0m\u001b[0;34m,\u001b[0m \u001b[0mtarget\u001b[0m \u001b[0;32min\u001b[0m \u001b[0mdata_loader\u001b[0m\u001b[0;34m:\u001b[0m\u001b[0;34m\u001b[0m\u001b[0;34m\u001b[0m\u001b[0m\n\u001b[0m\u001b[1;32m    112\u001b[0m         \u001b[0mdata\u001b[0m\u001b[0;34m,\u001b[0m \u001b[0mtarget\u001b[0m \u001b[0;34m=\u001b[0m \u001b[0mdata\u001b[0m\u001b[0;34m.\u001b[0m\u001b[0mto\u001b[0m\u001b[0;34m(\u001b[0m\u001b[0mdevice\u001b[0m\u001b[0;34m)\u001b[0m\u001b[0;34m,\u001b[0m \u001b[0mtarget\u001b[0m\u001b[0;34m.\u001b[0m\u001b[0mto\u001b[0m\u001b[0;34m(\u001b[0m\u001b[0mdevice\u001b[0m\u001b[0;34m)\u001b[0m\u001b[0;34m\u001b[0m\u001b[0;34m\u001b[0m\u001b[0m\n\u001b[1;32m    113\u001b[0m         \u001b[0;32mfor\u001b[0m \u001b[0mindex\u001b[0m\u001b[0;34m,\u001b[0m \u001b[0mlabel\u001b[0m \u001b[0;32min\u001b[0m \u001b[0menumerate\u001b[0m\u001b[0;34m(\u001b[0m\u001b[0mtarget\u001b[0m\u001b[0;34m)\u001b[0m\u001b[0;34m:\u001b[0m\u001b[0;34m\u001b[0m\u001b[0;34m\u001b[0m\u001b[0m\n",
      "\u001b[0;32m~/anaconda3/lib/python3.8/site-packages/torch/utils/data/dataloader.py\u001b[0m in \u001b[0;36m__next__\u001b[0;34m(self)\u001b[0m\n\u001b[1;32m    361\u001b[0m \u001b[0;34m\u001b[0m\u001b[0m\n\u001b[1;32m    362\u001b[0m     \u001b[0;32mdef\u001b[0m \u001b[0m__next__\u001b[0m\u001b[0;34m(\u001b[0m\u001b[0mself\u001b[0m\u001b[0;34m)\u001b[0m\u001b[0;34m:\u001b[0m\u001b[0;34m\u001b[0m\u001b[0;34m\u001b[0m\u001b[0m\n\u001b[0;32m--> 363\u001b[0;31m         \u001b[0mdata\u001b[0m \u001b[0;34m=\u001b[0m \u001b[0mself\u001b[0m\u001b[0;34m.\u001b[0m\u001b[0m_next_data\u001b[0m\u001b[0;34m(\u001b[0m\u001b[0;34m)\u001b[0m\u001b[0;34m\u001b[0m\u001b[0;34m\u001b[0m\u001b[0m\n\u001b[0m\u001b[1;32m    364\u001b[0m         \u001b[0mself\u001b[0m\u001b[0;34m.\u001b[0m\u001b[0m_num_yielded\u001b[0m \u001b[0;34m+=\u001b[0m \u001b[0;36m1\u001b[0m\u001b[0;34m\u001b[0m\u001b[0;34m\u001b[0m\u001b[0m\n\u001b[1;32m    365\u001b[0m         \u001b[0;32mif\u001b[0m \u001b[0mself\u001b[0m\u001b[0;34m.\u001b[0m\u001b[0m_dataset_kind\u001b[0m \u001b[0;34m==\u001b[0m \u001b[0m_DatasetKind\u001b[0m\u001b[0;34m.\u001b[0m\u001b[0mIterable\u001b[0m \u001b[0;32mand\u001b[0m\u001b[0;31m \u001b[0m\u001b[0;31m\\\u001b[0m\u001b[0;34m\u001b[0m\u001b[0;34m\u001b[0m\u001b[0m\n",
      "\u001b[0;32m~/anaconda3/lib/python3.8/site-packages/torch/utils/data/dataloader.py\u001b[0m in \u001b[0;36m_next_data\u001b[0;34m(self)\u001b[0m\n\u001b[1;32m    987\u001b[0m             \u001b[0;32melse\u001b[0m\u001b[0;34m:\u001b[0m\u001b[0;34m\u001b[0m\u001b[0;34m\u001b[0m\u001b[0m\n\u001b[1;32m    988\u001b[0m                 \u001b[0;32mdel\u001b[0m \u001b[0mself\u001b[0m\u001b[0;34m.\u001b[0m\u001b[0m_task_info\u001b[0m\u001b[0;34m[\u001b[0m\u001b[0midx\u001b[0m\u001b[0;34m]\u001b[0m\u001b[0;34m\u001b[0m\u001b[0;34m\u001b[0m\u001b[0m\n\u001b[0;32m--> 989\u001b[0;31m                 \u001b[0;32mreturn\u001b[0m \u001b[0mself\u001b[0m\u001b[0;34m.\u001b[0m\u001b[0m_process_data\u001b[0m\u001b[0;34m(\u001b[0m\u001b[0mdata\u001b[0m\u001b[0;34m)\u001b[0m\u001b[0;34m\u001b[0m\u001b[0;34m\u001b[0m\u001b[0m\n\u001b[0m\u001b[1;32m    990\u001b[0m \u001b[0;34m\u001b[0m\u001b[0m\n\u001b[1;32m    991\u001b[0m     \u001b[0;32mdef\u001b[0m \u001b[0m_try_put_index\u001b[0m\u001b[0;34m(\u001b[0m\u001b[0mself\u001b[0m\u001b[0;34m)\u001b[0m\u001b[0;34m:\u001b[0m\u001b[0;34m\u001b[0m\u001b[0;34m\u001b[0m\u001b[0m\n",
      "\u001b[0;32m~/anaconda3/lib/python3.8/site-packages/torch/utils/data/dataloader.py\u001b[0m in \u001b[0;36m_process_data\u001b[0;34m(self, data)\u001b[0m\n\u001b[1;32m   1012\u001b[0m         \u001b[0mself\u001b[0m\u001b[0;34m.\u001b[0m\u001b[0m_try_put_index\u001b[0m\u001b[0;34m(\u001b[0m\u001b[0;34m)\u001b[0m\u001b[0;34m\u001b[0m\u001b[0;34m\u001b[0m\u001b[0m\n\u001b[1;32m   1013\u001b[0m         \u001b[0;32mif\u001b[0m \u001b[0misinstance\u001b[0m\u001b[0;34m(\u001b[0m\u001b[0mdata\u001b[0m\u001b[0;34m,\u001b[0m \u001b[0mExceptionWrapper\u001b[0m\u001b[0;34m)\u001b[0m\u001b[0;34m:\u001b[0m\u001b[0;34m\u001b[0m\u001b[0;34m\u001b[0m\u001b[0m\n\u001b[0;32m-> 1014\u001b[0;31m             \u001b[0mdata\u001b[0m\u001b[0;34m.\u001b[0m\u001b[0mreraise\u001b[0m\u001b[0;34m(\u001b[0m\u001b[0;34m)\u001b[0m\u001b[0;34m\u001b[0m\u001b[0;34m\u001b[0m\u001b[0m\n\u001b[0m\u001b[1;32m   1015\u001b[0m         \u001b[0;32mreturn\u001b[0m \u001b[0mdata\u001b[0m\u001b[0;34m\u001b[0m\u001b[0;34m\u001b[0m\u001b[0m\n\u001b[1;32m   1016\u001b[0m \u001b[0;34m\u001b[0m\u001b[0m\n",
      "\u001b[0;32m~/anaconda3/lib/python3.8/site-packages/torch/_utils.py\u001b[0m in \u001b[0;36mreraise\u001b[0;34m(self)\u001b[0m\n\u001b[1;32m    393\u001b[0m             \u001b[0;31m# (https://bugs.python.org/issue2651), so we work around it.\u001b[0m\u001b[0;34m\u001b[0m\u001b[0;34m\u001b[0m\u001b[0;34m\u001b[0m\u001b[0m\n\u001b[1;32m    394\u001b[0m             \u001b[0mmsg\u001b[0m \u001b[0;34m=\u001b[0m \u001b[0mKeyErrorMessage\u001b[0m\u001b[0;34m(\u001b[0m\u001b[0mmsg\u001b[0m\u001b[0;34m)\u001b[0m\u001b[0;34m\u001b[0m\u001b[0;34m\u001b[0m\u001b[0m\n\u001b[0;32m--> 395\u001b[0;31m         \u001b[0;32mraise\u001b[0m \u001b[0mself\u001b[0m\u001b[0;34m.\u001b[0m\u001b[0mexc_type\u001b[0m\u001b[0;34m(\u001b[0m\u001b[0mmsg\u001b[0m\u001b[0;34m)\u001b[0m\u001b[0;34m\u001b[0m\u001b[0;34m\u001b[0m\u001b[0m\n\u001b[0m",
      "\u001b[0;31mRuntimeError\u001b[0m: Caught RuntimeError in pin memory thread for device 0.\nOriginal Traceback (most recent call last):\n  File \"/home/abhinav/anaconda3/lib/python3.8/site-packages/torch/utils/data/_utils/pin_memory.py\", line 31, in _pin_memory_loop\n    data = pin_memory(data)\n  File \"/home/abhinav/anaconda3/lib/python3.8/site-packages/torch/utils/data/_utils/pin_memory.py\", line 55, in pin_memory\n    return [pin_memory(sample) for sample in data]\n  File \"/home/abhinav/anaconda3/lib/python3.8/site-packages/torch/utils/data/_utils/pin_memory.py\", line 55, in <listcomp>\n    return [pin_memory(sample) for sample in data]\n  File \"/home/abhinav/anaconda3/lib/python3.8/site-packages/torch/utils/data/_utils/pin_memory.py\", line 47, in pin_memory\n    return data.pin_memory()\nRuntimeError: cuda runtime error (2) : out of memory at /opt/conda/conda-bld/pytorch_1595629395347/work/aten/src/THC/THCCachingHostAllocator.cpp:278\n"
     ]
    },
    {
     "data": {
      "text/plain": [
       "<Figure size 720x648 with 0 Axes>"
      ]
     },
     "metadata": {},
     "output_type": "display_data"
    }
   ],
   "source": [
    "#Plot 20 random images\n",
    "putils.plot_dataset_images(device, classes, train_loader)"
   ]
  },
  {
   "cell_type": "markdown",
   "metadata": {},
   "source": [
    "### Model stracture"
   ]
  },
  {
   "cell_type": "code",
   "execution_count": null,
   "metadata": {},
   "outputs": [],
   "source": [
    "model = mod.ResNet18()"
   ]
  },
  {
   "cell_type": "code",
   "execution_count": null,
   "metadata": {},
   "outputs": [],
   "source": [
    "mutils.model_summary(model, device, input_size=(3, 32, 32))"
   ]
  },
  {
   "cell_type": "markdown",
   "metadata": {},
   "source": [
    "# Visual Summary"
   ]
  },
  {
   "cell_type": "code",
   "execution_count": null,
   "metadata": {},
   "outputs": [],
   "source": [
    "# from model_utility.plot_utils import  graphical_summary_cifar10\n",
    "# graphical_summary_cifar10(model)"
   ]
  },
  {
   "cell_type": "code",
   "execution_count": null,
   "metadata": {
    "colab": {
     "base_uri": "https://localhost:8080/",
     "height": 1000
    },
    "colab_type": "code",
    "id": "UeuPAXSSHHdw",
    "outputId": "b44589b8-fa74-41c5-c7a9-fde71fe9ff3b"
   },
   "outputs": [],
   "source": [
    "# Create CIFAR10 network\n",
    "# model = model_cifar.Net(dropout_value = 0.05)\n",
    "# mutils.model_summary(model, device, input_size=(3, 32, 32))"
   ]
  },
  {
   "cell_type": "markdown",
   "metadata": {
    "colab_type": "text",
    "id": "JBvA4KS5rPHC"
   },
   "source": [
    "# Build and train model"
   ]
  },
  {
   "cell_type": "code",
   "execution_count": null,
   "metadata": {},
   "outputs": [],
   "source": [
    "from tqdm import tqdm"
   ]
  },
  {
   "cell_type": "code",
   "execution_count": null,
   "metadata": {
    "colab": {
     "base_uri": "https://localhost:8080/",
     "height": 1000
    },
    "colab_type": "code",
    "id": "FIRbviAvHHUg",
    "outputId": "b9f5632b-c03c-4bd6-e9f8-8fb7b2c3e8a2"
   },
   "outputs": [],
   "source": [
    "# build and train the model\n",
    "model_name = \"Model CIFAR10\"\n",
    "EPOCHS = 20\n",
    "model =  model.to(device) # use GPU\n",
    "\n",
    "# using L1 and L2 regularization\n",
    "train_acc, train_losses, test_acc, test_losses = mutils.build_model(model, \n",
    "                                                            device, \n",
    "                                                            trainloader=train_loader, \n",
    "                                                            testloader=test_loader, \n",
    "                                                            epochs=EPOCHS,\n",
    "                                                            L1_loss_flag=False,\n",
    "                                                            L2_penalty_val=0.001)"
   ]
  },
  {
   "cell_type": "code",
   "execution_count": null,
   "metadata": {},
   "outputs": [],
   "source": [
    "A.__file__"
   ]
  },
  {
   "cell_type": "markdown",
   "metadata": {
    "colab_type": "text",
    "id": "ZkcmOkxhrVYM"
   },
   "source": [
    "# Test Accuracy"
   ]
  },
  {
   "cell_type": "code",
   "execution_count": null,
   "metadata": {
    "colab": {
     "base_uri": "https://localhost:8080/",
     "height": 102
    },
    "colab_type": "code",
    "id": "PTxBnF81Ckpr",
    "outputId": "d6b893aa-3c2b-410c-fd72-6eec0ea3d9e4"
   },
   "outputs": [],
   "source": [
    "mutils.get_test_accuracy(model, device, test_loader)"
   ]
  },
  {
   "cell_type": "markdown",
   "metadata": {},
   "source": [
    "### Class level Accuracy"
   ]
  },
  {
   "cell_type": "code",
   "execution_count": null,
   "metadata": {
    "colab": {
     "base_uri": "https://localhost:8080/",
     "height": 221
    },
    "colab_type": "code",
    "id": "M2apWfDqCkzW",
    "outputId": "e19e65f4-7ab9-4411-caf8-482c09e291db"
   },
   "outputs": [],
   "source": [
    "\n",
    "mutils.class_based_accuracy(model, device, classes, test_loader)"
   ]
  },
  {
   "cell_type": "markdown",
   "metadata": {
    "colab_type": "text",
    "id": "GW_C7-sTrhns"
   },
   "source": [
    "# Visualization"
   ]
  },
  {
   "cell_type": "code",
   "execution_count": null,
   "metadata": {
    "colab": {
     "base_uri": "https://localhost:8080/",
     "height": 401
    },
    "colab_type": "code",
    "id": "HURzdqbICk3h",
    "outputId": "d213c412-a34f-4ed5-9f27-848c84704860"
   },
   "outputs": [],
   "source": [
    "print(\"\\nPloting Accuracy and Loss history: {}\\n\".format(model_name))\n",
    "putils.plot_model_history(model_name, \n",
    "                   train_acc,test_acc,\n",
    "                   train_losses,test_losses,\n",
    "                   save_filename = \"model_history\")"
   ]
  },
  {
   "cell_type": "markdown",
   "metadata": {
    "colab_type": "text",
    "id": "4hca0ROwrn-K"
   },
   "source": [
    "# Misclassified images"
   ]
  },
  {
   "cell_type": "code",
   "execution_count": null,
   "metadata": {
    "colab": {
     "base_uri": "https://localhost:8080/",
     "height": 614
    },
    "colab_type": "code",
    "id": "qJOS6w6fCk-S",
    "outputId": "b61a8288-2275-45ae-af4d-e4d2b47a69fe"
   },
   "outputs": [],
   "source": [
    "print (\"\\nPloting misclassified images: {}\\n\".format(model_name))\n",
    "\n",
    "putils.miss_classification('Test',model, \n",
    "                          device, \n",
    "                          classes,\n",
    "                          testloader=test_loader,\n",
    "                          num_of_images = 20,\n",
    "                          save_filename=\"model_misclassified\")"
   ]
  },
  {
   "cell_type": "code",
   "execution_count": null,
   "metadata": {},
   "outputs": [],
   "source": [
    "layer = 'layer4'\n",
    "viz.gradcam_plot(layer,model,testset,classes)"
   ]
  },
  {
   "cell_type": "code",
   "execution_count": null,
   "metadata": {},
   "outputs": [],
   "source": [
    "with mlflow.start_run() as run:\n",
    "    mlflow.log_param(\"epochs\", EPOCHS)\n",
    "    mlflow.pytorch.log_model(model, \"models\")"
   ]
  }
 ],
 "metadata": {
  "accelerator": "GPU",
  "colab": {
   "collapsed_sections": [],
   "include_colab_link": true,
   "name": "EVA4S7_main.ipynb",
   "provenance": []
  },
  "kernelspec": {
   "display_name": "Python 3",
   "language": "python",
   "name": "python3"
  },
  "language_info": {
   "codemirror_mode": {
    "name": "ipython",
    "version": 3
   },
   "file_extension": ".py",
   "mimetype": "text/x-python",
   "name": "python",
   "nbconvert_exporter": "python",
   "pygments_lexer": "ipython3",
   "version": "3.8.5"
  }
 },
 "nbformat": 4,
 "nbformat_minor": 4
}
