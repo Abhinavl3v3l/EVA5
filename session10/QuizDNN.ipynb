{
 "cells": [
  {
   "cell_type": "code",
   "execution_count": 1,
   "metadata": {
    "scrolled": true
   },
   "outputs": [
    {
     "name": "stdout",
     "output_type": "stream",
     "text": [
      "Current Date/Time:  2020-09-26 14:19:31.542637\n"
     ]
    }
   ],
   "source": [
    "import datetime\n",
    "print(\"Current Date/Time: \", datetime.datetime.now())"
   ]
  },
  {
   "cell_type": "code",
   "execution_count": 2,
   "metadata": {},
   "outputs": [],
   "source": [
    "from IPython.core.interactiveshell import InteractiveShell\n",
    "InteractiveShell.ast_node_interactivity = 'all'"
   ]
  },
  {
   "cell_type": "markdown",
   "metadata": {
    "colab_type": "text",
    "id": "_kXPnIqUqhwH"
   },
   "source": [
    "# Loading UD modules"
   ]
  },
  {
   "cell_type": "raw",
   "metadata": {},
   "source": [
    "!pip install albumentations -y"
   ]
  },
  {
   "cell_type": "code",
   "execution_count": 3,
   "metadata": {
    "scrolled": true
   },
   "outputs": [],
   "source": [
    "from __future__ import print_function\n",
    "import torch\n",
    "import torch.optim as optim\n",
    "from torchvision import datasets, transforms\n",
    "from torch.optim.lr_scheduler import StepLR\n",
    "from torchsummary import summary\n",
    "from tqdm import tqdm\n",
    "import torchvision\n",
    "import torch.nn as nn\n",
    "import torch.nn.functional as F\n",
    "import os \n",
    "import numpy as np\n",
    "\n",
    "# CUSTOM LIBRARY\n",
    "import model_utility.data_utils as dutils\n",
    "import model_utility.model_utils as mutils\n",
    "import model_utility.plot_utils as putils \n",
    "import model_utility.regularization as regularization\n",
    "import model_utility.alb_utils as alb\n",
    "import sys\n",
    "sys.path.append('/home/abhinav/Documents/EVA5/session9/model_utility/gradcam')\n",
    "import model_utility.grad_cam_viz as viz\n",
    "import model_file.QuizDNN as Q9\n",
    "\n",
    "# PLOTS\n",
    "import matplotlib.pyplot as plt\n",
    "import seaborn as sns"
   ]
  },
  {
   "cell_type": "code",
   "execution_count": 4,
   "metadata": {},
   "outputs": [],
   "source": [
    "import data_augmentation.albumentations as A\n",
    "from data_augmentation.albumentations.pytorch import ToTensor"
   ]
  },
  {
   "cell_type": "markdown",
   "metadata": {
    "colab_type": "text",
    "id": "Wik2-FtyqnDH"
   },
   "source": [
    "# Check GPU avaiability"
   ]
  },
  {
   "cell_type": "code",
   "execution_count": 6,
   "metadata": {
    "colab": {
     "base_uri": "https://localhost:8080/",
     "height": 51
    },
    "colab_type": "code",
    "id": "FJ0f14SWHHPg",
    "outputId": "7b876441-5838-4574-ee84-9804c47e765e"
   },
   "outputs": [
    {
     "name": "stdout",
     "output_type": "stream",
     "text": [
      "CUDA Available? True\n",
      "Device is cuda:0\n"
     ]
    }
   ],
   "source": [
    "device = dutils.get_device()"
   ]
  },
  {
   "cell_type": "code",
   "execution_count": 7,
   "metadata": {},
   "outputs": [
    {
     "name": "stdout",
     "output_type": "stream",
     "text": [
      "True\n"
     ]
    }
   ],
   "source": [
    "cuda = torch.cuda.is_available()\n",
    "print(cuda)"
   ]
  },
  {
   "cell_type": "markdown",
   "metadata": {
    "colab_type": "text",
    "id": "TJ-pAGuzqxz9"
   },
   "source": [
    "# CIFAR10 Basics"
   ]
  },
  {
   "cell_type": "code",
   "execution_count": 11,
   "metadata": {
    "colab": {},
    "colab_type": "code",
    "id": "V548eThGVWxb"
   },
   "outputs": [
    {
     "data": {
      "text/plain": [
       "'/home/abhinav/Documents/EVA5/session9'"
      ]
     },
     "execution_count": 11,
     "metadata": {},
     "output_type": "execute_result"
    }
   ],
   "source": [
    "classes = ('plane', 'car', 'bird', 'cat', 'deer', 'dog', 'frog', 'horse', 'ship', 'truck')\n",
    "\n",
    "SEED = 1\n",
    "batch_size=64\n",
    "\n",
    "# CUDA?\n",
    "if device.type == 'cuda':\n",
    "    torch.cuda.manual_seed(SEED)\n",
    "else:\n",
    "    torch.manual_seed(SEED)\n",
    "    \n",
    "path = os.getcwd()\n",
    "path"
   ]
  },
  {
   "cell_type": "raw",
   "metadata": {
    "colab": {
     "base_uri": "https://localhost:8080/",
     "height": 68
    },
    "colab_type": "code",
    "id": "sOJiNOrWHHgx",
    "outputId": "3e826095-e86a-4b15-e75e-43416f110838"
   },
   "source": [
    "# load CIFAR10 dataset\n",
    "train_loader, test_loader = dutils.get_dataloader(batch_size=batch_size, num_workers=4, cuda = True,path = path )"
   ]
  },
  {
   "cell_type": "code",
   "execution_count": 12,
   "metadata": {},
   "outputs": [],
   "source": [
    "batch_size = 256"
   ]
  },
  {
   "cell_type": "code",
   "execution_count": 13,
   "metadata": {},
   "outputs": [
    {
     "name": "stdout",
     "output_type": "stream",
     "text": [
      "Running over Cuda !!  True\n",
      "Files already downloaded and verified\n",
      "Files already downloaded and verified\n",
      "mean 0.49186864\n",
      "standard dev 0.24697131\n",
      "mean 0.48265335\n",
      "standard dev 0.24338901\n",
      "mean 0.44717798\n",
      "standard dev 0.26159254\n",
      "Files already downloaded and verified\n",
      "Files already downloaded and verified\n"
     ]
    }
   ],
   "source": [
    "# load CIFAR10 dataset\n",
    "trainset, testset, train_loader, test_loader = alb.get_dataloader(batch_size=batch_size, num_workers=4, cuda = True,path = path)"
   ]
  },
  {
   "cell_type": "markdown",
   "metadata": {
    "colab_type": "text",
    "id": "Uzk3Su4wrBV0"
   },
   "source": [
    "# Data mage Visualization"
   ]
  },
  {
   "cell_type": "code",
   "execution_count": 14,
   "metadata": {
    "colab": {
     "base_uri": "https://localhost:8080/",
     "height": 529
    },
    "colab_type": "code",
    "id": "klMwUHJBHHv3",
    "outputId": "595083de-6c3c-471d-9bac-f07c0fe2852c",
    "scrolled": true
   },
   "outputs": [
    {
     "name": "stderr",
     "output_type": "stream",
     "text": [
      "Clipping input data to the valid range for imshow with RGB data ([0..1] for floats or [0..255] for integers).\n",
      "Clipping input data to the valid range for imshow with RGB data ([0..1] for floats or [0..255] for integers).\n",
      "Clipping input data to the valid range for imshow with RGB data ([0..1] for floats or [0..255] for integers).\n",
      "Clipping input data to the valid range for imshow with RGB data ([0..1] for floats or [0..255] for integers).\n",
      "Clipping input data to the valid range for imshow with RGB data ([0..1] for floats or [0..255] for integers).\n",
      "Clipping input data to the valid range for imshow with RGB data ([0..1] for floats or [0..255] for integers).\n",
      "Clipping input data to the valid range for imshow with RGB data ([0..1] for floats or [0..255] for integers).\n",
      "Clipping input data to the valid range for imshow with RGB data ([0..1] for floats or [0..255] for integers).\n",
      "Clipping input data to the valid range for imshow with RGB data ([0..1] for floats or [0..255] for integers).\n",
      "Clipping input data to the valid range for imshow with RGB data ([0..1] for floats or [0..255] for integers).\n",
      "Clipping input data to the valid range for imshow with RGB data ([0..1] for floats or [0..255] for integers).\n",
      "Clipping input data to the valid range for imshow with RGB data ([0..1] for floats or [0..255] for integers).\n",
      "Clipping input data to the valid range for imshow with RGB data ([0..1] for floats or [0..255] for integers).\n",
      "Clipping input data to the valid range for imshow with RGB data ([0..1] for floats or [0..255] for integers).\n",
      "Clipping input data to the valid range for imshow with RGB data ([0..1] for floats or [0..255] for integers).\n",
      "Clipping input data to the valid range for imshow with RGB data ([0..1] for floats or [0..255] for integers).\n",
      "Clipping input data to the valid range for imshow with RGB data ([0..1] for floats or [0..255] for integers).\n",
      "Clipping input data to the valid range for imshow with RGB data ([0..1] for floats or [0..255] for integers).\n",
      "Clipping input data to the valid range for imshow with RGB data ([0..1] for floats or [0..255] for integers).\n",
      "Clipping input data to the valid range for imshow with RGB data ([0..1] for floats or [0..255] for integers).\n"
     ]
    },
    {
     "data": {
      "image/png": "[encoded data removed]",
      "text/plain": [
       "<Figure size 720x648 with 20 Axes>"
      ]
     },
     "metadata": {},
     "output_type": "display_data"
    }
   ],
   "source": [
    "#Plot 20 random images\n",
    "putils.plot_dataset_images(device, classes, train_loader)"
   ]
  },
  {
   "cell_type": "markdown",
   "metadata": {},
   "source": [
    "### Model stracture"
   ]
  },
  {
   "cell_type": "code",
   "execution_count": 15,
   "metadata": {},
   "outputs": [],
   "source": [
    "model = Q9.QuizDNN(0.10)"
   ]
  },
  {
   "cell_type": "code",
   "execution_count": 16,
   "metadata": {},
   "outputs": [
    {
     "name": "stdout",
     "output_type": "stream",
     "text": [
      "----------------------------------------------------------------\n",
      "        Layer (type)               Output Shape         Param #\n",
      "================================================================\n",
      "            Conv2d-1           [-1, 32, 32, 32]              96\n",
      "       BatchNorm2d-2           [-1, 32, 32, 32]              64\n",
      "              ReLU-3           [-1, 32, 32, 32]               0\n",
      "           Dropout-4           [-1, 32, 32, 32]               0\n",
      "            Conv2d-5           [-1, 32, 32, 32]           9,216\n",
      "       BatchNorm2d-6           [-1, 32, 32, 32]              64\n",
      "              ReLU-7           [-1, 32, 32, 32]               0\n",
      "           Dropout-8           [-1, 32, 32, 32]               0\n",
      "            Conv2d-9           [-1, 32, 32, 32]           9,216\n",
      "      BatchNorm2d-10           [-1, 32, 32, 32]              64\n",
      "             ReLU-11           [-1, 32, 32, 32]               0\n",
      "          Dropout-12           [-1, 32, 32, 32]               0\n",
      "        MaxPool2d-13           [-1, 32, 16, 16]               0\n",
      "           Conv2d-14           [-1, 64, 16, 16]           2,048\n",
      "      BatchNorm2d-15           [-1, 64, 16, 16]             128\n",
      "             ReLU-16           [-1, 64, 16, 16]               0\n",
      "          Dropout-17           [-1, 64, 16, 16]               0\n",
      "           Conv2d-18           [-1, 64, 16, 16]          36,864\n",
      "      BatchNorm2d-19           [-1, 64, 16, 16]             128\n",
      "             ReLU-20           [-1, 64, 16, 16]               0\n",
      "          Dropout-21           [-1, 64, 16, 16]               0\n",
      "           Conv2d-22           [-1, 64, 16, 16]          36,864\n",
      "      BatchNorm2d-23           [-1, 64, 16, 16]             128\n",
      "             ReLU-24           [-1, 64, 16, 16]               0\n",
      "          Dropout-25           [-1, 64, 16, 16]               0\n",
      "           Conv2d-26           [-1, 64, 16, 16]          36,864\n",
      "      BatchNorm2d-27           [-1, 64, 16, 16]             128\n",
      "             ReLU-28           [-1, 64, 16, 16]               0\n",
      "          Dropout-29           [-1, 64, 16, 16]               0\n",
      "        MaxPool2d-30             [-1, 64, 8, 8]               0\n",
      "           Conv2d-31            [-1, 128, 8, 8]           8,192\n",
      "      BatchNorm2d-32            [-1, 128, 8, 8]             256\n",
      "             ReLU-33            [-1, 128, 8, 8]               0\n",
      "          Dropout-34            [-1, 128, 8, 8]               0\n",
      "           Conv2d-35            [-1, 128, 8, 8]         147,456\n",
      "      BatchNorm2d-36            [-1, 128, 8, 8]             256\n",
      "             ReLU-37            [-1, 128, 8, 8]               0\n",
      "          Dropout-38            [-1, 128, 8, 8]               0\n",
      "           Conv2d-39            [-1, 128, 8, 8]         147,456\n",
      "      BatchNorm2d-40            [-1, 128, 8, 8]             256\n",
      "             ReLU-41            [-1, 128, 8, 8]               0\n",
      "          Dropout-42            [-1, 128, 8, 8]               0\n",
      "           Conv2d-43            [-1, 128, 8, 8]         147,456\n",
      "      BatchNorm2d-44            [-1, 128, 8, 8]             256\n",
      "             ReLU-45            [-1, 128, 8, 8]               0\n",
      "          Dropout-46            [-1, 128, 8, 8]               0\n",
      "AdaptiveAvgPool2d-47            [-1, 128, 1, 1]               0\n",
      "           Conv2d-48             [-1, 10, 1, 1]           1,280\n",
      "================================================================\n",
      "Total params: 584,736\n",
      "Trainable params: 584,736\n",
      "Non-trainable params: 0\n",
      "----------------------------------------------------------------\n",
      "Input size (MB): 0.01\n",
      "Forward/backward pass size (MB): 6.09\n",
      "Params size (MB): 2.23\n",
      "Estimated Total Size (MB): 8.34\n",
      "----------------------------------------------------------------\n"
     ]
    }
   ],
   "source": [
    "mutils.model_summary(model, device, input_size=(3, 32, 32))"
   ]
  },
  {
   "cell_type": "markdown",
   "metadata": {
    "colab_type": "text",
    "id": "JBvA4KS5rPHC"
   },
   "source": [
    "# Build and train model"
   ]
  },
  {
   "cell_type": "code",
   "execution_count": 17,
   "metadata": {},
   "outputs": [],
   "source": [
    "from tqdm import tqdm"
   ]
  },
  {
   "cell_type": "code",
   "execution_count": 18,
   "metadata": {
    "colab": {
     "base_uri": "https://localhost:8080/",
     "height": 1000
    },
    "colab_type": "code",
    "id": "FIRbviAvHHUg",
    "outputId": "b9f5632b-c03c-4bd6-e9f8-8fb7b2c3e8a2",
    "scrolled": true
   },
   "outputs": [
    {
     "name": "stderr",
     "output_type": "stream",
     "text": [
      "\r",
      "  0%|          | 0/196 [00:00<?, ?it/s]"
     ]
    },
    {
     "name": "stdout",
     "output_type": "stream",
     "text": [
      "EPOCH: 0\n"
     ]
    },
    {
     "name": "stderr",
     "output_type": "stream",
     "text": [
      "Loss=1.685069 Batch_id=195 Accuracy=37.10: 100%|██████████| 196/196 [00:12<00:00, 16.33it/s]\n",
      "  0%|          | 0/196 [00:00<?, ?it/s]"
     ]
    },
    {
     "name": "stdout",
     "output_type": "stream",
     "text": [
      "\n",
      "Test set: Average loss: 2.086683, Accuracy: 3571/10000 (35.71%)\n",
      "\n",
      "EPOCH: 1\n"
     ]
    },
    {
     "name": "stderr",
     "output_type": "stream",
     "text": [
      "Loss=1.309859 Batch_id=195 Accuracy=52.14: 100%|██████████| 196/196 [00:11<00:00, 16.43it/s]\n",
      "  0%|          | 0/196 [00:00<?, ?it/s]"
     ]
    },
    {
     "name": "stdout",
     "output_type": "stream",
     "text": [
      "\n",
      "Test set: Average loss: 1.243268, Accuracy: 5452/10000 (54.52%)\n",
      "\n",
      "EPOCH: 2\n"
     ]
    },
    {
     "name": "stderr",
     "output_type": "stream",
     "text": [
      "Loss=1.131413 Batch_id=195 Accuracy=59.03: 100%|██████████| 196/196 [00:12<00:00, 15.80it/s]\n",
      "  0%|          | 0/196 [00:00<?, ?it/s]"
     ]
    },
    {
     "name": "stdout",
     "output_type": "stream",
     "text": [
      "\n",
      "Test set: Average loss: 1.084624, Accuracy: 6189/10000 (61.89%)\n",
      "\n",
      "EPOCH: 3\n"
     ]
    },
    {
     "name": "stderr",
     "output_type": "stream",
     "text": [
      "Loss=1.035887 Batch_id=195 Accuracy=62.77: 100%|██████████| 196/196 [00:12<00:00, 16.16it/s]\n",
      "  0%|          | 0/196 [00:00<?, ?it/s]"
     ]
    },
    {
     "name": "stdout",
     "output_type": "stream",
     "text": [
      "\n",
      "Test set: Average loss: 1.109608, Accuracy: 6148/10000 (61.48%)\n",
      "\n",
      "EPOCH: 4\n"
     ]
    },
    {
     "name": "stderr",
     "output_type": "stream",
     "text": [
      "Loss=0.954627 Batch_id=195 Accuracy=65.91: 100%|██████████| 196/196 [00:12<00:00, 15.90it/s]\n",
      "  0%|          | 0/196 [00:00<?, ?it/s]"
     ]
    },
    {
     "name": "stdout",
     "output_type": "stream",
     "text": [
      "\n",
      "Test set: Average loss: 1.032781, Accuracy: 6431/10000 (64.31%)\n",
      "\n",
      "EPOCH: 5\n"
     ]
    },
    {
     "name": "stderr",
     "output_type": "stream",
     "text": [
      "Loss=0.896595 Batch_id=195 Accuracy=68.05: 100%|██████████| 196/196 [00:12<00:00, 15.61it/s]\n",
      "  0%|          | 0/196 [00:00<?, ?it/s]"
     ]
    },
    {
     "name": "stdout",
     "output_type": "stream",
     "text": [
      "\n",
      "Test set: Average loss: 0.957141, Accuracy: 6715/10000 (67.15%)\n",
      "\n",
      "EPOCH: 6\n"
     ]
    },
    {
     "name": "stderr",
     "output_type": "stream",
     "text": [
      "Loss=0.836353 Batch_id=195 Accuracy=70.33: 100%|██████████| 196/196 [00:12<00:00, 15.92it/s]\n",
      "  0%|          | 0/196 [00:00<?, ?it/s]"
     ]
    },
    {
     "name": "stdout",
     "output_type": "stream",
     "text": [
      "\n",
      "Test set: Average loss: 0.781841, Accuracy: 7244/10000 (72.44%)\n",
      "\n",
      "EPOCH: 7\n"
     ]
    },
    {
     "name": "stderr",
     "output_type": "stream",
     "text": [
      "Loss=0.792499 Batch_id=195 Accuracy=71.77: 100%|██████████| 196/196 [00:12<00:00, 15.96it/s]\n",
      "  0%|          | 0/196 [00:00<?, ?it/s]"
     ]
    },
    {
     "name": "stdout",
     "output_type": "stream",
     "text": [
      "\n",
      "Test set: Average loss: 0.976539, Accuracy: 6705/10000 (67.05%)\n",
      "\n",
      "EPOCH: 8\n"
     ]
    },
    {
     "name": "stderr",
     "output_type": "stream",
     "text": [
      "Loss=0.760374 Batch_id=195 Accuracy=73.04: 100%|██████████| 196/196 [00:12<00:00, 15.96it/s]\n",
      "  0%|          | 0/196 [00:00<?, ?it/s]"
     ]
    },
    {
     "name": "stdout",
     "output_type": "stream",
     "text": [
      "\n",
      "Test set: Average loss: 0.915406, Accuracy: 6919/10000 (69.19%)\n",
      "\n",
      "EPOCH: 9\n"
     ]
    },
    {
     "name": "stderr",
     "output_type": "stream",
     "text": [
      "Loss=0.728129 Batch_id=195 Accuracy=74.09: 100%|██████████| 196/196 [00:12<00:00, 16.08it/s]\n",
      "  0%|          | 0/196 [00:00<?, ?it/s]"
     ]
    },
    {
     "name": "stdout",
     "output_type": "stream",
     "text": [
      "\n",
      "Test set: Average loss: 0.727289, Accuracy: 7462/10000 (74.62%)\n",
      "\n",
      "EPOCH: 10\n"
     ]
    },
    {
     "name": "stderr",
     "output_type": "stream",
     "text": [
      "Loss=0.699780 Batch_id=195 Accuracy=75.39: 100%|██████████| 196/196 [00:12<00:00, 15.90it/s]\n",
      "  0%|          | 0/196 [00:00<?, ?it/s]"
     ]
    },
    {
     "name": "stdout",
     "output_type": "stream",
     "text": [
      "\n",
      "Test set: Average loss: 0.777988, Accuracy: 7218/10000 (72.18%)\n",
      "\n",
      "EPOCH: 11\n"
     ]
    },
    {
     "name": "stderr",
     "output_type": "stream",
     "text": [
      "Loss=0.675621 Batch_id=195 Accuracy=75.96: 100%|██████████| 196/196 [00:12<00:00, 15.82it/s]\n",
      "  0%|          | 0/196 [00:00<?, ?it/s]"
     ]
    },
    {
     "name": "stdout",
     "output_type": "stream",
     "text": [
      "\n",
      "Test set: Average loss: 0.769944, Accuracy: 7309/10000 (73.09%)\n",
      "\n",
      "EPOCH: 12\n"
     ]
    },
    {
     "name": "stderr",
     "output_type": "stream",
     "text": [
      "Loss=0.661404 Batch_id=195 Accuracy=76.70: 100%|██████████| 196/196 [00:12<00:00, 15.96it/s]\n",
      "  0%|          | 0/196 [00:00<?, ?it/s]"
     ]
    },
    {
     "name": "stdout",
     "output_type": "stream",
     "text": [
      "\n",
      "Test set: Average loss: 0.710278, Accuracy: 7571/10000 (75.71%)\n",
      "\n",
      "EPOCH: 13\n"
     ]
    },
    {
     "name": "stderr",
     "output_type": "stream",
     "text": [
      "Loss=0.643871 Batch_id=195 Accuracy=77.18: 100%|██████████| 196/196 [00:12<00:00, 15.84it/s]\n",
      "  0%|          | 0/196 [00:00<?, ?it/s]"
     ]
    },
    {
     "name": "stdout",
     "output_type": "stream",
     "text": [
      "\n",
      "Test set: Average loss: 0.662324, Accuracy: 7693/10000 (76.93%)\n",
      "\n",
      "EPOCH: 14\n"
     ]
    },
    {
     "name": "stderr",
     "output_type": "stream",
     "text": [
      "Loss=0.621492 Batch_id=195 Accuracy=78.01: 100%|██████████| 196/196 [00:12<00:00, 15.76it/s]\n",
      "  0%|          | 0/196 [00:00<?, ?it/s]"
     ]
    },
    {
     "name": "stdout",
     "output_type": "stream",
     "text": [
      "\n",
      "Test set: Average loss: 0.701749, Accuracy: 7559/10000 (75.59%)\n",
      "\n",
      "EPOCH: 15\n"
     ]
    },
    {
     "name": "stderr",
     "output_type": "stream",
     "text": [
      "Loss=0.603001 Batch_id=195 Accuracy=78.64: 100%|██████████| 196/196 [00:12<00:00, 15.98it/s]\n",
      "  0%|          | 0/196 [00:00<?, ?it/s]"
     ]
    },
    {
     "name": "stdout",
     "output_type": "stream",
     "text": [
      "\n",
      "Test set: Average loss: 0.606690, Accuracy: 7892/10000 (78.92%)\n",
      "\n",
      "EPOCH: 16\n"
     ]
    },
    {
     "name": "stderr",
     "output_type": "stream",
     "text": [
      "Loss=0.593688 Batch_id=195 Accuracy=78.92: 100%|██████████| 196/196 [00:12<00:00, 15.78it/s]\n",
      "  0%|          | 0/196 [00:00<?, ?it/s]"
     ]
    },
    {
     "name": "stdout",
     "output_type": "stream",
     "text": [
      "\n",
      "Test set: Average loss: 0.766614, Accuracy: 7482/10000 (74.82%)\n",
      "\n",
      "EPOCH: 17\n"
     ]
    },
    {
     "name": "stderr",
     "output_type": "stream",
     "text": [
      "Loss=0.577945 Batch_id=195 Accuracy=79.60: 100%|██████████| 196/196 [00:12<00:00, 15.98it/s]\n",
      "  0%|          | 0/196 [00:00<?, ?it/s]"
     ]
    },
    {
     "name": "stdout",
     "output_type": "stream",
     "text": [
      "\n",
      "Test set: Average loss: 0.587099, Accuracy: 7967/10000 (79.67%)\n",
      "\n",
      "EPOCH: 18\n"
     ]
    },
    {
     "name": "stderr",
     "output_type": "stream",
     "text": [
      "Loss=0.560545 Batch_id=195 Accuracy=80.31: 100%|██████████| 196/196 [00:12<00:00, 15.87it/s]\n",
      "  0%|          | 0/196 [00:00<?, ?it/s]"
     ]
    },
    {
     "name": "stdout",
     "output_type": "stream",
     "text": [
      "\n",
      "Test set: Average loss: 0.617452, Accuracy: 7928/10000 (79.28%)\n",
      "\n",
      "EPOCH: 19\n"
     ]
    },
    {
     "name": "stderr",
     "output_type": "stream",
     "text": [
      "Loss=0.555769 Batch_id=195 Accuracy=80.49: 100%|██████████| 196/196 [00:12<00:00, 15.74it/s]\n",
      "  0%|          | 0/196 [00:00<?, ?it/s]"
     ]
    },
    {
     "name": "stdout",
     "output_type": "stream",
     "text": [
      "\n",
      "Test set: Average loss: 0.622955, Accuracy: 7947/10000 (79.47%)\n",
      "\n",
      "EPOCH: 20\n"
     ]
    },
    {
     "name": "stderr",
     "output_type": "stream",
     "text": [
      "Loss=0.545509 Batch_id=195 Accuracy=80.76: 100%|██████████| 196/196 [00:12<00:00, 15.72it/s]\n",
      "  0%|          | 0/196 [00:00<?, ?it/s]"
     ]
    },
    {
     "name": "stdout",
     "output_type": "stream",
     "text": [
      "\n",
      "Test set: Average loss: 0.575573, Accuracy: 7970/10000 (79.70%)\n",
      "\n",
      "EPOCH: 21\n"
     ]
    },
    {
     "name": "stderr",
     "output_type": "stream",
     "text": [
      "Loss=0.529465 Batch_id=195 Accuracy=81.31: 100%|██████████| 196/196 [00:12<00:00, 15.86it/s]\n",
      "  0%|          | 0/196 [00:00<?, ?it/s]"
     ]
    },
    {
     "name": "stdout",
     "output_type": "stream",
     "text": [
      "\n",
      "Test set: Average loss: 0.577653, Accuracy: 8075/10000 (80.75%)\n",
      "\n",
      "EPOCH: 22\n"
     ]
    },
    {
     "name": "stderr",
     "output_type": "stream",
     "text": [
      "Loss=0.524427 Batch_id=195 Accuracy=81.67: 100%|██████████| 196/196 [00:12<00:00, 15.68it/s]\n",
      "  0%|          | 0/196 [00:00<?, ?it/s]"
     ]
    },
    {
     "name": "stdout",
     "output_type": "stream",
     "text": [
      "\n",
      "Test set: Average loss: 0.558160, Accuracy: 8087/10000 (80.87%)\n",
      "\n",
      "EPOCH: 23\n"
     ]
    },
    {
     "name": "stderr",
     "output_type": "stream",
     "text": [
      "Loss=0.510783 Batch_id=195 Accuracy=81.98: 100%|██████████| 196/196 [00:12<00:00, 15.86it/s]\n",
      "  0%|          | 0/196 [00:00<?, ?it/s]"
     ]
    },
    {
     "name": "stdout",
     "output_type": "stream",
     "text": [
      "\n",
      "Test set: Average loss: 0.534956, Accuracy: 8168/10000 (81.68%)\n",
      "\n",
      "EPOCH: 24\n"
     ]
    },
    {
     "name": "stderr",
     "output_type": "stream",
     "text": [
      "Loss=0.495262 Batch_id=195 Accuracy=82.57: 100%|██████████| 196/196 [00:12<00:00, 16.06it/s]\n",
      "  0%|          | 0/196 [00:00<?, ?it/s]"
     ]
    },
    {
     "name": "stdout",
     "output_type": "stream",
     "text": [
      "\n",
      "Test set: Average loss: 0.566004, Accuracy: 8023/10000 (80.23%)\n",
      "\n",
      "EPOCH: 25\n"
     ]
    },
    {
     "name": "stderr",
     "output_type": "stream",
     "text": [
      "Loss=0.492512 Batch_id=195 Accuracy=82.72: 100%|██████████| 196/196 [00:12<00:00, 16.12it/s]\n",
      "  0%|          | 0/196 [00:00<?, ?it/s]"
     ]
    },
    {
     "name": "stdout",
     "output_type": "stream",
     "text": [
      "\n",
      "Test set: Average loss: 0.605275, Accuracy: 7924/10000 (79.24%)\n",
      "\n",
      "EPOCH: 26\n"
     ]
    },
    {
     "name": "stderr",
     "output_type": "stream",
     "text": [
      "Loss=0.488830 Batch_id=195 Accuracy=82.85: 100%|██████████| 196/196 [00:12<00:00, 15.79it/s]\n",
      "  0%|          | 0/196 [00:00<?, ?it/s]"
     ]
    },
    {
     "name": "stdout",
     "output_type": "stream",
     "text": [
      "\n",
      "Test set: Average loss: 0.523044, Accuracy: 8194/10000 (81.94%)\n",
      "\n",
      "EPOCH: 27\n"
     ]
    },
    {
     "name": "stderr",
     "output_type": "stream",
     "text": [
      "Loss=0.473296 Batch_id=195 Accuracy=83.30: 100%|██████████| 196/196 [00:12<00:00, 15.96it/s]\n",
      "  0%|          | 0/196 [00:00<?, ?it/s]"
     ]
    },
    {
     "name": "stdout",
     "output_type": "stream",
     "text": [
      "\n",
      "Test set: Average loss: 0.574456, Accuracy: 8107/10000 (81.07%)\n",
      "\n",
      "EPOCH: 28\n"
     ]
    },
    {
     "name": "stderr",
     "output_type": "stream",
     "text": [
      "Loss=0.469017 Batch_id=195 Accuracy=83.34: 100%|██████████| 196/196 [00:12<00:00, 16.01it/s]\n",
      "  0%|          | 0/196 [00:00<?, ?it/s]"
     ]
    },
    {
     "name": "stdout",
     "output_type": "stream",
     "text": [
      "\n",
      "Test set: Average loss: 0.554493, Accuracy: 8120/10000 (81.20%)\n",
      "\n",
      "EPOCH: 29\n"
     ]
    },
    {
     "name": "stderr",
     "output_type": "stream",
     "text": [
      "Loss=0.462666 Batch_id=195 Accuracy=83.60: 100%|██████████| 196/196 [00:12<00:00, 16.16it/s]\n",
      "  0%|          | 0/196 [00:00<?, ?it/s]"
     ]
    },
    {
     "name": "stdout",
     "output_type": "stream",
     "text": [
      "\n",
      "Test set: Average loss: 0.529676, Accuracy: 8174/10000 (81.74%)\n",
      "\n",
      "EPOCH: 30\n"
     ]
    },
    {
     "name": "stderr",
     "output_type": "stream",
     "text": [
      "Loss=0.457839 Batch_id=195 Accuracy=83.64: 100%|██████████| 196/196 [00:12<00:00, 16.15it/s]\n",
      "  0%|          | 0/196 [00:00<?, ?it/s]"
     ]
    },
    {
     "name": "stdout",
     "output_type": "stream",
     "text": [
      "\n",
      "Test set: Average loss: 0.536904, Accuracy: 8184/10000 (81.84%)\n",
      "\n",
      "EPOCH: 31\n"
     ]
    },
    {
     "name": "stderr",
     "output_type": "stream",
     "text": [
      "Loss=0.447614 Batch_id=195 Accuracy=84.08: 100%|██████████| 196/196 [00:12<00:00, 15.96it/s]\n",
      "  0%|          | 0/196 [00:00<?, ?it/s]"
     ]
    },
    {
     "name": "stdout",
     "output_type": "stream",
     "text": [
      "\n",
      "Test set: Average loss: 0.536301, Accuracy: 8217/10000 (82.17%)\n",
      "\n",
      "EPOCH: 32\n"
     ]
    },
    {
     "name": "stderr",
     "output_type": "stream",
     "text": [
      "Loss=0.436870 Batch_id=195 Accuracy=84.48: 100%|██████████| 196/196 [00:12<00:00, 16.00it/s]\n",
      "  0%|          | 0/196 [00:00<?, ?it/s]"
     ]
    },
    {
     "name": "stdout",
     "output_type": "stream",
     "text": [
      "\n",
      "Test set: Average loss: 0.516509, Accuracy: 8229/10000 (82.29%)\n",
      "\n",
      "EPOCH: 33\n"
     ]
    },
    {
     "name": "stderr",
     "output_type": "stream",
     "text": [
      "Loss=0.430438 Batch_id=195 Accuracy=84.63: 100%|██████████| 196/196 [00:12<00:00, 15.67it/s]\n",
      "  0%|          | 0/196 [00:00<?, ?it/s]"
     ]
    },
    {
     "name": "stdout",
     "output_type": "stream",
     "text": [
      "\n",
      "Test set: Average loss: 0.513841, Accuracy: 8260/10000 (82.60%)\n",
      "\n",
      "EPOCH: 34\n"
     ]
    },
    {
     "name": "stderr",
     "output_type": "stream",
     "text": [
      "Loss=0.432032 Batch_id=195 Accuracy=84.69: 100%|██████████| 196/196 [00:12<00:00, 16.09it/s]\n",
      "  0%|          | 0/196 [00:00<?, ?it/s]"
     ]
    },
    {
     "name": "stdout",
     "output_type": "stream",
     "text": [
      "\n",
      "Test set: Average loss: 0.508809, Accuracy: 8280/10000 (82.80%)\n",
      "\n",
      "EPOCH: 35\n"
     ]
    },
    {
     "name": "stderr",
     "output_type": "stream",
     "text": [
      "Loss=0.425465 Batch_id=195 Accuracy=84.81: 100%|██████████| 196/196 [00:12<00:00, 16.07it/s]\n",
      "  0%|          | 0/196 [00:00<?, ?it/s]"
     ]
    },
    {
     "name": "stdout",
     "output_type": "stream",
     "text": [
      "\n",
      "Test set: Average loss: 0.526394, Accuracy: 8205/10000 (82.05%)\n",
      "\n",
      "EPOCH: 36\n"
     ]
    },
    {
     "name": "stderr",
     "output_type": "stream",
     "text": [
      "Loss=0.414345 Batch_id=195 Accuracy=85.18: 100%|██████████| 196/196 [00:12<00:00, 15.50it/s]\n",
      "  0%|          | 0/196 [00:00<?, ?it/s]"
     ]
    },
    {
     "name": "stdout",
     "output_type": "stream",
     "text": [
      "\n",
      "Test set: Average loss: 0.572136, Accuracy: 8117/10000 (81.17%)\n",
      "\n",
      "EPOCH: 37\n"
     ]
    },
    {
     "name": "stderr",
     "output_type": "stream",
     "text": [
      "Loss=0.409723 Batch_id=195 Accuracy=85.26: 100%|██████████| 196/196 [00:12<00:00, 15.95it/s]\n",
      "  0%|          | 0/196 [00:00<?, ?it/s]"
     ]
    },
    {
     "name": "stdout",
     "output_type": "stream",
     "text": [
      "\n",
      "Test set: Average loss: 0.528986, Accuracy: 8291/10000 (82.91%)\n",
      "\n",
      "EPOCH: 38\n"
     ]
    },
    {
     "name": "stderr",
     "output_type": "stream",
     "text": [
      "Loss=0.404971 Batch_id=195 Accuracy=85.64: 100%|██████████| 196/196 [00:12<00:00, 15.92it/s]\n",
      "  0%|          | 0/196 [00:00<?, ?it/s]"
     ]
    },
    {
     "name": "stdout",
     "output_type": "stream",
     "text": [
      "\n",
      "Test set: Average loss: 0.475452, Accuracy: 8397/10000 (83.97%)\n",
      "\n",
      "EPOCH: 39\n"
     ]
    },
    {
     "name": "stderr",
     "output_type": "stream",
     "text": [
      "Loss=0.400380 Batch_id=195 Accuracy=85.69: 100%|██████████| 196/196 [00:12<00:00, 15.99it/s]\n"
     ]
    },
    {
     "name": "stdout",
     "output_type": "stream",
     "text": [
      "\n",
      "Test set: Average loss: 0.580258, Accuracy: 8110/10000 (81.10%)\n",
      "\n"
     ]
    }
   ],
   "source": [
    "# build and train the model\n",
    "model_name = \"Model CIFAR10\"\n",
    "EPOCHS = 40\n",
    "model =  model.to(device) # use GPU\n",
    "\n",
    "# using L1 and L2 regularization\n",
    "train_acc, train_losses, test_acc, test_losses = mutils.build_model(model, \n",
    "                                                            device, \n",
    "                                                            trainloader=train_loader, \n",
    "                                                            testloader=test_loader, \n",
    "                                                            epochs=EPOCHS,\n",
    "                                                            L1_loss_flag=False,\n",
    "                                                            L2_penalty_val=0.00)"
   ]
  },
  {
   "cell_type": "code",
   "execution_count": 20,
   "metadata": {},
   "outputs": [
    {
     "name": "stdout",
     "output_type": "stream",
     "text": [
      "\n",
      "Accuracy of the network on the 10000 test images: 81.10%\n",
      "\n"
     ]
    }
   ],
   "source": [
    "mutils.get_test_accuracy(model, device, test_loader)"
   ]
  },
  {
   "cell_type": "code",
   "execution_count": 21,
   "metadata": {},
   "outputs": [
    {
     "name": "stdout",
     "output_type": "stream",
     "text": [
      "Accuracy of plane : 86 %\n",
      "Accuracy of   car : 93 %\n",
      "Accuracy of  bird : 78 %\n",
      "Accuracy of   cat : 53 %\n",
      "Accuracy of  deer : 68 %\n",
      "Accuracy of   dog : 78 %\n",
      "Accuracy of  frog : 94 %\n",
      "Accuracy of horse : 93 %\n",
      "Accuracy of  ship : 89 %\n",
      "Accuracy of truck : 90 %\n"
     ]
    }
   ],
   "source": [
    "mutils.class_based_accuracy(model, device, classes, test_loader)"
   ]
  },
  {
   "cell_type": "code",
   "execution_count": 22,
   "metadata": {},
   "outputs": [
    {
     "name": "stdout",
     "output_type": "stream",
     "text": [
      "\n",
      "Ploting Accuracy and Loss history: Model CIFAR10\n",
      "\n"
     ]
    },
    {
     "name": "stderr",
     "output_type": "stream",
     "text": [
      "/home/abhinav/Documents/EVA5/session9/model_utility/plot_utils.py:27: MatplotlibDeprecationWarning: Passing the minor parameter of set_xticks() positionally is deprecated since Matplotlib 3.2; the parameter will become keyword-only two minor releases later.\n",
      "  axs[0].set_xticks(np.arange(1,x_size+1),x_size/10)\n",
      "/home/abhinav/Documents/EVA5/session9/model_utility/plot_utils.py:38: MatplotlibDeprecationWarning: Passing the minor parameter of set_xticks() positionally is deprecated since Matplotlib 3.2; the parameter will become keyword-only two minor releases later.\n",
      "  axs[1].set_xticks(np.arange(1,x_size+1),x_size/10)\n"
     ]
    },
    {
     "data": {
      "image/png": "[encoded data removed]",
      "text/plain": [
       "<Figure size 1440x360 with 2 Axes>"
      ]
     },
     "metadata": {
      "needs_background": "light"
     },
     "output_type": "display_data"
    }
   ],
   "source": [
    "print(\"\\nPloting Accuracy and Loss history: {}\\n\".format(model_name))\n",
    "putils.plot_model_history(model_name, \n",
    "                   train_acc,test_acc,\n",
    "                   train_losses,test_losses,\n",
    "                   save_filename = \"model_history\")"
   ]
  }
 ],
 "metadata": {
  "accelerator": "GPU",
  "colab": {
   "collapsed_sections": [],
   "include_colab_link": true,
   "name": "EVA4S7_main.ipynb",
   "provenance": []
  },
  "kernelspec": {
   "display_name": "Python 3",
   "language": "python",
   "name": "python3"
  },
  "language_info": {
   "codemirror_mode": {
    "name": "ipython",
    "version": 3
   },
   "file_extension": ".py",
   "mimetype": "text/x-python",
   "name": "python",
   "nbconvert_exporter": "python",
   "pygments_lexer": "ipython3",
   "version": "3.8.5"
  }
 },
 "nbformat": 4,
 "nbformat_minor": 4
}
